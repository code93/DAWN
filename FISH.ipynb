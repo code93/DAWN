{
 "metadata": {
  "language_info": {
   "codemirror_mode": {
    "name": "ipython",
    "version": 3
   },
   "file_extension": ".py",
   "mimetype": "text/x-python",
   "name": "python",
   "nbconvert_exporter": "python",
   "pygments_lexer": "ipython3",
   "version": "3.8.2-final"
  },
  "orig_nbformat": 2,
  "kernelspec": {
   "name": "python38264bit73d00dc355574169a3f8f2955d91db0d",
   "display_name": "Python 3.8.2 64-bit"
  }
 },
 "nbformat": 4,
 "nbformat_minor": 2,
 "cells": [
  {
   "source": [],
   "cell_type": "markdown",
   "metadata": {}
  },
  {
   "source": [
    "#Import Libraries\n",
    "\n",
    "import numpy as np\n",
    "import pandas as pd\n",
    "from itertools import combinations as cm"
   ],
   "cell_type": "code",
   "metadata": {
    "tags": []
   },
   "execution_count": 111,
   "outputs": []
  },
  {
   "cell_type": "code",
   "execution_count": 112,
   "metadata": {},
   "outputs": [],
   "source": [
    "#Defining Required Functions\n",
    "\n",
    "def dig(n):\n",
    "    p = str(pow(n,n))\n",
    "    d = dict(dict_keys={0:9})\n",
    "    for i in range(0,10):\n",
    "       d[i] = p.count(str(i))\n",
    "    return d\n",
    "\n",
    "\n",
    "def numb(nu=1000):\n",
    "    numb = pd.DataFrame()\n",
    "    for k in range(nu):\n",
    "        numb[k] = pd.Series(dig(k))\n",
    "\n",
    "var = pd.DataFrame()\n",
    "\n",
    "def par(N=10, m=5):\n",
    "    x = range(N)\n",
    "    lst = iter(cm(x,m))\n",
    "    tot = int(len(list(cm(x,m)))/2)\n",
    "    for j in range(tot):\n",
    "        j+1\n",
    "        var[j] = next(lst)\n",
    "    return var\n",
    "\n",
    "comb = par()\n",
    "\n"
   ]
  }
 ]
}