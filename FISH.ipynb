{
 "metadata": {
  "language_info": {
   "codemirror_mode": {
    "name": "ipython",
    "version": 3
   },
   "file_extension": ".py",
   "mimetype": "text/x-python",
   "name": "python",
   "nbconvert_exporter": "python",
   "pygments_lexer": "ipython3",
   "version": "3.8.2-final"
  },
  "orig_nbformat": 2,
  "kernelspec": {
   "name": "python38264bit73d00dc355574169a3f8f2955d91db0d",
   "display_name": "Python 3.8.2 64-bit"
  }
 },
 "nbformat": 4,
 "nbformat_minor": 2,
 "cells": [
  {
   "source": [],
   "cell_type": "markdown",
   "metadata": {}
  },
  {
   "source": [
    "import numpy as np\n",
    "import pandas as pd\n",
    "from itertools import combinations as cm"
   ],
   "cell_type": "code",
   "metadata": {
    "tags": []
   },
   "execution_count": 6,
   "outputs": []
  },
  {
   "cell_type": "code",
   "execution_count": 4,
   "metadata": {},
   "outputs": [],
   "source": []
  },
  {
   "cell_type": "code",
   "execution_count": 228,
   "metadata": {},
   "outputs": [
    {
     "output_type": "stream",
     "name": "stdout",
     "text": [
      "{'dict_keys': {0: 9}, 0: 22, 1: 25, 2: 13, 3: 20, 4: 23, 5: 15, 6: 15, 7: 19, 8: 15, 9: 17}\n   0    1    2    3    4    5    6    7    8    9    ...  116  117  118  119  \\\n0    0    0    0    0    0    0    0    0    0    0  ...    0    0    0    0   \n1    1    1    1    1    1    1    1    1    1    1  ...    4    4    4    4   \n2    2    2    2    2    2    2    2    2    2    2  ...    5    6    6    6   \n3    3    3    3    3    3    3    4    4    4    4  ...    8    7    7    8   \n4    4    5    6    7    8    9    5    6    7    8  ...    9    8    9    9   \n\n   120  121  122  123  124  125  \n0    0    0    0    0    0    0  \n1    4    5    5    5    5    6  \n2    7    6    6    6    7    7  \n3    8    7    7    8    8    8  \n4    9    8    9    9    9    9  \n\n[5 rows x 126 columns]    0    1    2    3    4    5    6    7    8    9    ...  116  117  118  119  \\\n0    9    9    9    9    9    9    9    9    9    9  ...    9    9    9    9   \n1    8    8    8    8    8    8    8    8    8    8  ...    5    5    5    5   \n2    7    7    7    7    7    7    7    7    7    7  ...    4    3    3    3   \n3    6    6    6    6    6    6    5    5    5    5  ...    1    2    2    1   \n4    5    4    3    2    1    0    4    3    2    1  ...    0    1    0    0   \n\n   120  121  122  123  124  125  \n0    9    9    9    9    9    9  \n1    5    4    4    4    4    3  \n2    2    3    3    3    2    2  \n3    1    2    2    1    1    1  \n4    0    1    0    0    0    0  \n\n[5 rows x 126 columns]\n"
     ]
    }
   ],
   "source": [
    "def dig(n):\n",
    "    p = str(pow(n,n))\n",
    "    d = dict(dict_keys={0:9})\n",
    "    for i in range(0,10):\n",
    "       d[i] = p.count(str(i))\n",
    "    return d\n",
    "\n",
    "d = dig(93)\n",
    "print(d)\n",
    "\n",
    "var = pd.DataFrame()\n",
    "rav = pd.DataFrame()\n",
    "\n",
    "def par(N=10, m=5):\n",
    "    x = range(N)\n",
    "    lst = iter(cm(x,m))\n",
    "    tot = int(len(list(cm(x,m)))/2)\n",
    "    for j in range(tot):\n",
    "        j+1\n",
    "        var[j] = next(lst)\n",
    "        rav[j] = 9-var[j]\n",
    "    return var,rav\n",
    "\n",
    "\n",
    "comb,comb2 = par()\n",
    "print(comb,comb2)"
   ]
  },
  {
   "cell_type": "code",
   "execution_count": 231,
   "metadata": {},
   "outputs": [
    {
     "output_type": "stream",
     "name": "stdout",
     "text": [
      "               0       1       2       3       4       5       6       7   \\\ndict_keys  {0: 9}  {0: 9}  {0: 9}  {0: 9}  {0: 9}  {0: 9}  {0: 9}  {0: 9}   \n0               0       0       0       0       0       0       0       0   \n1               1       1       0       0       0       1       0       0   \n2               0       0       0       1       1       1       0       1   \n3               0       0       0       0       0       1       0       2   \n4               0       0       1       0       0       0       1       1   \n5               0       0       0       0       1       1       1       1   \n6               0       0       0       0       1       0       3       0   \n7               0       0       0       1       0       0       0       0   \n8               0       0       0       0       0       0       0       1   \n9               0       0       0       0       0       0       0       0   \n\n               8       9   ...      90      91      92      93      94  \\\ndict_keys  {0: 9}  {0: 9}  ...  {0: 9}  {0: 9}  {0: 9}  {0: 9}  {0: 9}   \n0               0       1  ...     101      16      22      22      16   \n1               2       0  ...       9      20      14      25      17   \n2               1       1  ...       7      16      14      13      18   \n3               0       1  ...      11      16      24      20      16   \n4               0       2  ...       9      17      22      23      21   \n5               0       0  ...       8      14      18      15      13   \n6               2       0  ...       8      16      16      15      30   \n7               3       1  ...      11      19      11      19      20   \n8               0       2  ...       5      16      20      15      17   \n9               0       1  ...       7      29      20      17      18   \n\n               95      96      97      98      99  \ndict_keys  {0: 9}  {0: 9}  {0: 9}  {0: 9}  {0: 9}  \n0              15       9      18      28      20  \n1              17      18      25      15      18  \n2              14      20      23      22      21  \n3              28      20      18      24      11  \n4              16      18      16      19      23  \n5              14      22      17      19      20  \n6              15      16      17      20      19  \n7              18      31      15      19      22  \n8              27      19      24      14      13  \n9              24      18      20      16      31  \n\n[11 rows x 100 columns]\n"
     ]
    }
   ],
   "source": [
    "numb = pd.DataFrame()\n",
    "for k in range(100):\n",
    "    numb[k] = pd.Series(dig(k))\n",
    "\n",
    "print(numb)\n"
   ]
  },
  {
   "cell_type": "code",
   "execution_count": null,
   "metadata": {},
   "outputs": [],
   "source": []
  }
 ]
}